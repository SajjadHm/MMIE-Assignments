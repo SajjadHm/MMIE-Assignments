{
 "cells": [
  {
   "cell_type": "code",
   "execution_count": 93,
   "id": "80e0f846",
   "metadata": {},
   "outputs": [],
   "source": [
    "A=np.array([[2,0,-1],[4,-1,-2],[3,-1,-1]])"
   ]
  },
  {
   "cell_type": "code",
   "execution_count": 88,
   "id": "defa428a",
   "metadata": {},
   "outputs": [
    {
     "name": "stdout",
     "output_type": "stream",
     "text": [
      "2 3\n",
      "[[1.  0.  0. ]\n",
      " [0.  2.  0. ]\n",
      " [0.  0.  1.5]] \n",
      "\n",
      "1 3\n",
      "[[1.  0.  0. ]\n",
      " [0.  2.  0. ]\n",
      " [0.  0.  1.5]] \n",
      "\n",
      "1 2\n",
      "[[1.  0.  0. ]\n",
      " [0.  2.  0. ]\n",
      " [0.  0.  1.5]] \n",
      "\n",
      "L_inv= [[ 1.          0.          0.        ]\n",
      " [-1.33333333  1.33333333 -0.66666667]\n",
      " [ 0.5        -0.5         1.        ]]\n"
     ]
    }
   ],
   "source": [
    "B=A.copy()\n",
    "n=B.shape[0]\n",
    "L_inv=np.identity(n)\n",
    "for j in range(1,n-1+1):\n",
    "    i=j+1\n",
    "    for k in range(2,n+1):\n",
    "        E=np.identity(n)\n",
    "        E[i-1,j-1]=-B[i-1,j-1]/B[j-1,j-1]\n",
    "        L_inv=np.matmul(E,L_inv)\n",
    "        B=np.matmul(E,B)\n",
    "#         print(i,j)\n",
    "#         print(B,'\\n')\n",
    "        i+=1\n",
    "        if i>n:\n",
    "            break\n",
    "\n",
    "            \n",
    "for j in range(n-1+1,1,-1):\n",
    "    i=j-1\n",
    "    for k in range(n+1,2,-1):\n",
    "        E=np.identity(n)\n",
    "        E[i-1,j-1]=-B[i-1,j-1]/B[j-1,j-1]\n",
    "        L_inv=np.matmul(E,L_inv)\n",
    "        B=np.matmul(E,B)\n",
    "        print(i,j)\n",
    "        print(B,'\\n')\n",
    "        i-=1\n",
    "        if i<1:\n",
    "            break            \n",
    "            \n",
    "            \n",
    "            \n",
    "            \n",
    "            \n",
    "            \n",
    "            \n",
    "            \n",
    "            \n",
    "            \n",
    "            \n",
    "            \n",
    "            \n",
    "\n",
    "# U=B.copy()\n",
    "# print('A=',A)\n",
    "# print('U=',U)\n",
    "print('L_inv=',L_inv)"
   ]
  },
  {
   "cell_type": "code",
   "execution_count": 89,
   "id": "3ed1f4c8",
   "metadata": {},
   "outputs": [
    {
     "data": {
      "text/plain": [
       "array([[ 1.        ,  0.        ,  0.        ],\n",
       "       [-0.66666667,  0.66666667, -0.33333333],\n",
       "       [ 0.33333333, -0.33333333,  0.66666667]])"
      ]
     },
     "execution_count": 89,
     "metadata": {},
     "output_type": "execute_result"
    }
   ],
   "source": [
    "for i in range(1,n+1):\n",
    "    L_inv[i-1,:]=L_inv[i-1,:]/B[i-1,i-1]\n",
    "\n",
    "\n",
    "\n",
    "\n",
    "\n",
    "L_inv"
   ]
  },
  {
   "cell_type": "code",
   "execution_count": null,
   "id": "b8358ab2",
   "metadata": {},
   "outputs": [],
   "source": []
  },
  {
   "cell_type": "markdown",
   "id": "0de8571c",
   "metadata": {
    "editable": false
   },
   "source": [
    "# Python Assignment 1\n",
    "\n",
    "### Prof. S. Amini\n",
    "\n",
    "### Mathematical Methods In Engineering - 1401-01\n",
    "\n",
    "### Deadline: ?\n",
    "\n",
    "---"
   ]
  },
  {
   "cell_type": "markdown",
   "id": "5fd219f4",
   "metadata": {
    "editable": false
   },
   "source": [
    "This assignment consists of two problems: In the first one, you're going to use Gauss-Jordan elimination to calculate `LU` factorization of a given matrix, and in the second problem you'll use the same technique to calculate the inverse of a matrix.\n",
    "\n",
    "Each problem has two cells: A `Code Cell`, and an `Evaluation Cell`. You should write your code in the `Code Cell`s and then run the `Evaluation Cell` to check the correctness of your code. **Please do not edit the codes in the Evaluation Cells.**\n",
    "\n",
    "Before jumping into the code, read the following section to get familiar with `Gauss transformations`, which helps you do eliminations more efficiently."
   ]
  },
  {
   "cell_type": "markdown",
   "id": "a9aeba32",
   "metadata": {
    "editable": false
   },
   "source": [
    "## Gauss Transformation\n",
    "\n",
    "As you have learned in the class, in `Gauss-Jordan elimination`, each time we choose a pivot, we try to eliminate the elements below that pivot. This can be achieved using something called `Gauss Transformation`.\n",
    "\n",
    "Consider an arbitrary vector $\\textbf{v}$ where $v_k \\neq 0$\n",
    "\n",
    "$$ \\textbf{v} = \n",
    "\\begin{bmatrix}\n",
    "v_1 \\\\\n",
    "\\vdots \\\\\n",
    "v_{k-1} \\\\\n",
    "v_k \\\\\n",
    "v_{k+1} \\\\\n",
    "\\vdots \\\\\n",
    "v_n\n",
    "\\end{bmatrix}\n",
    "$$\n",
    "\n",
    "\n",
    "We need a matrix such when applied to $\\textbf{v}$, the elements below $v_k$ become zero. You can check that the `Gauss Matrix` $\\textbf{M}_k$, defined as below, does this for us.\n",
    "\n",
    "\n",
    "$$ \\textbf{t}^{(k)} = \n",
    "\\begin{bmatrix}\n",
    "0 \\\\\n",
    "\\vdots \\\\\n",
    "0 \\\\\n",
    "t_{k+1} \\\\\n",
    "\\vdots \\\\\n",
    "t_n\n",
    "\\end{bmatrix}, \\; \\; \\;\n",
    "t_i = \\frac{v_i}{v_k} \\; \\; \\; \\; for \\; \\; i=k+1:n\n",
    "$$\n",
    "\n",
    "$$ \\textbf{M}_k = \\textbf{I}_n - \\textbf{t}^{(k)}\\textbf{e}_k^T $$\n",
    "\n",
    "Where $\\textbf{e}_k$ is the k-th column of the $n \\times n$ identity matrix $\\textbf{I}_n$. Using the matrix-vector multiplication intuition you've learned in the class, you can easily check that the following equality holds:\n",
    "\n",
    "$$ \\textbf{M}_k \\textbf{v} = \n",
    "\\begin{bmatrix}\n",
    "1 & \\ldots & 0 & 0 & \\ldots & 0 \\\\\n",
    "\\vdots && \\vdots & \\vdots && \\vdots \\\\\n",
    "0 && 1 & 0 && 1 \\\\\n",
    "0 & \\ldots & -t_{k+1} & 1 & \\ldots & 0 \\\\\n",
    "\\vdots && \\vdots & \\vdots && \\vdots \\\\\n",
    "0 & \\ldots & -t_n & 0 & \\ldots & 1 \\\\\n",
    "\\end{bmatrix}\n",
    "%\n",
    "\\begin{bmatrix}\n",
    "v_1 \\\\\n",
    "\\vdots \\\\\n",
    "v_{k-1} \\\\\n",
    "v_k \\\\\n",
    "v_{k+1} \\\\\n",
    "\\vdots \\\\\n",
    "v_n\n",
    "\\end{bmatrix} = \n",
    "%\n",
    "\\begin{bmatrix}\n",
    "v_1 \\\\\n",
    "\\vdots \\\\\n",
    "v_{k-1} \\\\\n",
    "v_k \\\\\n",
    "0 \\\\\n",
    "\\vdots \\\\\n",
    "0\n",
    "\\end{bmatrix}\n",
    "$$\n",
    "\n",
    "The matrix $\\textbf{M}_k$ is called a `Gauss matrix`, and the vector $ \\textbf{t}^{(k)} $ is called the `Gauss vector`.\n",
    "\n",
    "---\n",
    "\n",
    "Before start coding, think about the following questions carefully, as you will use these relations in your code. You don't need to provide their answers in your homework, they're merely for your better understanding.\n",
    "\n",
    "### Question 1\n",
    "Investigate what happens to the rows of a matrix if you multiply it by a Gauss matrix?\n",
    "In other words, if $\\textbf{B} = \\textbf{M}_k \\textbf{A}$, what's the relation between $\\textbf{B}[i, :]$ and $\\textbf{A}[i, :]$ ?\n",
    "\n",
    "### Question 2\n",
    "Show that $$ \\textbf{M}_k^{-1} = \\textbf{I}_n + \\textbf{t}^{(k)}\\textbf{e}_k^T $$\n",
    "\n",
    "---"
   ]
  },
  {
   "cell_type": "code",
   "execution_count": 58,
   "id": "69a7b815",
   "metadata": {
    "editable": false
   },
   "outputs": [],
   "source": [
    "# import required packages\n",
    "import numpy as np\n",
    "import time"
   ]
  },
  {
   "cell_type": "markdown",
   "id": "8eb1dbee",
   "metadata": {
    "editable": false
   },
   "source": [
    "## 1. LU Factorization\n",
    "\n",
    "**Definition**\n",
    "An $n \\times n$ matrix $\\textbf{A}$ is said to have an LU decomposition if and only if there exist a lower triangular $n \\times n$ matrix $\\textbf{L}$ and an upper triangular $n \\times n$ matrix $\\textbf{U}$ such that:\n",
    "\n",
    "$$ \\textbf{A} = \\textbf{LU} $$\n",
    "\n",
    "Please keep in mind that not all square matrices have LU decomposition, and it may be necessary to permute the rows of a matrix before obtaining its LU factorization. In this problem, we assume that the elimination process does not require any row permutation."
   ]
  },
  {
   "cell_type": "code",
   "execution_count": 73,
   "id": "595c53c0",
   "metadata": {},
   "outputs": [],
   "source": [
    "# Code Cell\n",
    "\n",
    "def LU_factorization(A):\n",
    "    \n",
    "    \"\"\"\n",
    "        Computes LU factorization for the given matrix\n",
    "        \n",
    "        inputs:\n",
    "            A (numpy ndarray): input matrix\n",
    "        \n",
    "        outputs:\n",
    "            L (numpy ndarray): a lower triangular matrix\n",
    "            U (numpy ndarray): an upper triangular matrix\n",
    "    \"\"\"\n",
    "    B=A.copy()\n",
    "    n=B.shape[0]\n",
    "    # i=0\n",
    "    # j=0\n",
    "    L_inv=np.identity(n)\n",
    "    for j in range(1,n-1+1):\n",
    "        i=j+1\n",
    "        for k in range(2,n+1):\n",
    "            E=np.identity(n)\n",
    "            E[i-1,j-1]=-B[i-1,j-1]/B[j-1,j-1]\n",
    "            L_inv=np.matmul(E,L_inv)\n",
    "            B=np.matmul(E,B)\n",
    "    #         print(i,j)\n",
    "    #         print(B,'\\n')\n",
    "            i+=1\n",
    "            if i>n:\n",
    "                break\n",
    "\n",
    "    L=np.linalg.inv(L_inv)\n",
    "    U=B.copy()\n",
    "    # print('A=',A)\n",
    "    # print('U=',U)\n",
    "    # print('L=',L)\n",
    "    return L, U"
   ]
  },
  {
   "cell_type": "code",
   "execution_count": 74,
   "id": "523e14ea",
   "metadata": {
    "editable": false
   },
   "outputs": [
    {
     "name": "stdout",
     "output_type": "stream",
     "text": [
      "status: successful, time elapsed: 0.002 seconds\n"
     ]
    }
   ],
   "source": [
    "# Evaluation Cell\n",
    "\n",
    "n = 10\n",
    "A = np.random.randn(n, n)\n",
    "s = time.time()\n",
    "L, U = LU_factorization(A.copy())\n",
    "elapsed = time.time() - s\n",
    "\n",
    "assert np.linalg.norm(L - np.tril(L)) < 1e-10, \"L is not lower triangular\"\n",
    "assert np.linalg.norm(U - np.triu(U)) < 1e-10, \"U is not upper triangular\"\n",
    "assert np.linalg.norm(A - L @ U) < 1e-10, \"L and U does not satisfy A = L @ U\"\n",
    "\n",
    "print(f'status: successful, time elapsed: {np.round(elapsed, 5)} seconds')"
   ]
  },
  {
   "cell_type": "markdown",
   "id": "5d951675",
   "metadata": {
    "editable": false
   },
   "source": [
    "## 2. Inverse of Matrix\n",
    "\n",
    "**Definition**\n",
    "Let $\\textbf{A}$ be an $n \\times n$ matrix. Its inverse, if it exists, is the $n \\times n$ matrix $\\textbf{A}^{-1}$ such that\n",
    "\n",
    "$$ \\textbf{AA}^{-1} = \\textbf{I} $$\n",
    "\n",
    "Where $\\textbf{I}$ is the $n \\times n$ identity matrix. If $\\textbf{A}^{-1}$ exists, we say that $\\textbf{A}$ is invertible. Similar to the previous section, not all square matrices are invertible, but you don't need to worry about this issue in this problem."
   ]
  },
  {
   "cell_type": "code",
   "execution_count": null,
   "id": "411fffe8",
   "metadata": {},
   "outputs": [],
   "source": []
  },
  {
   "cell_type": "code",
   "execution_count": null,
   "id": "562a1aac",
   "metadata": {},
   "outputs": [],
   "source": []
  },
  {
   "cell_type": "code",
   "execution_count": null,
   "id": "c154d82e",
   "metadata": {},
   "outputs": [],
   "source": []
  },
  {
   "cell_type": "code",
   "execution_count": null,
   "id": "054f6c0a",
   "metadata": {},
   "outputs": [],
   "source": []
  },
  {
   "cell_type": "code",
   "execution_count": null,
   "id": "c751816e",
   "metadata": {},
   "outputs": [],
   "source": []
  },
  {
   "cell_type": "code",
   "execution_count": null,
   "id": "37b2e50c",
   "metadata": {},
   "outputs": [],
   "source": []
  },
  {
   "cell_type": "code",
   "execution_count": null,
   "id": "6761a0bc",
   "metadata": {},
   "outputs": [],
   "source": []
  },
  {
   "cell_type": "code",
   "execution_count": null,
   "id": "8d0a802e",
   "metadata": {},
   "outputs": [],
   "source": []
  },
  {
   "cell_type": "code",
   "execution_count": null,
   "id": "252e2c92",
   "metadata": {},
   "outputs": [],
   "source": []
  },
  {
   "cell_type": "code",
   "execution_count": 92,
   "id": "e1063a57",
   "metadata": {},
   "outputs": [],
   "source": [
    "def inverse(A):\n",
    "    B=A.copy()\n",
    "    n=B.shape[0]\n",
    "    L_inv=np.identity(n)\n",
    "    for j in range(1,n-1+1):\n",
    "        i=j+1\n",
    "        for k in range(2,n+1):\n",
    "            E=np.identity(n)\n",
    "            E[i-1,j-1]=-B[i-1,j-1]/B[j-1,j-1]\n",
    "            L_inv=np.matmul(E,L_inv)\n",
    "            B=np.matmul(E,B)\n",
    "    #         print(i,j)\n",
    "    #         print(B,'\\n')\n",
    "            i+=1\n",
    "            if i>n:\n",
    "                break\n",
    "\n",
    "\n",
    "    for j in range(n-1+1,1,-1):\n",
    "        i=j-1\n",
    "        for k in range(n+1,2,-1):\n",
    "            E=np.identity(n)\n",
    "            E[i-1,j-1]=-B[i-1,j-1]/B[j-1,j-1]\n",
    "            L_inv=np.matmul(E,L_inv)\n",
    "            B=np.matmul(E,B)\n",
    "    #         print(i,j)\n",
    "    #         print(B,'\\n')\n",
    "            i-=1\n",
    "            if i<1:\n",
    "                break            \n",
    "\n",
    "    for i in range(1,n+1):\n",
    "        L_inv[i-1,:]=L_inv[i-1,:]/B[i-1,i-1]\n",
    "    \n",
    "\n",
    "\n",
    "    A_inv=L_inv.copy()    \n",
    "    return A_inv"
   ]
  },
  {
   "cell_type": "code",
   "execution_count": 95,
   "id": "22288cb5",
   "metadata": {
    "editable": false
   },
   "outputs": [
    {
     "name": "stdout",
     "output_type": "stream",
     "text": [
      "status: successful, time elapsed: 0.004 seconds\n"
     ]
    }
   ],
   "source": [
    "# Evaluation Cell\n",
    "\n",
    "n = 10\n",
    "A = np.random.rand(n, n) + n * np.eye(n, n)\n",
    "s = time.time()\n",
    "A_inv = inverse(A.copy())\n",
    "elapsed = time.time() - s\n",
    "\n",
    "assert np.linalg.norm(A @ A_inv - np.eye(n, n)) < 1e-10, \"A_inv does not satisfy A @ A_inv = I\"\n",
    "\n",
    "print(f'status: successful, time elapsed: {np.round(elapsed, 5)} seconds')"
   ]
  }
 ],
 "metadata": {
  "kernelspec": {
   "display_name": "Python 3 (ipykernel)",
   "language": "python",
   "name": "python3"
  },
  "language_info": {
   "codemirror_mode": {
    "name": "ipython",
    "version": 3
   },
   "file_extension": ".py",
   "mimetype": "text/x-python",
   "name": "python",
   "nbconvert_exporter": "python",
   "pygments_lexer": "ipython3",
   "version": "3.10.6"
  }
 },
 "nbformat": 4,
 "nbformat_minor": 5
}
